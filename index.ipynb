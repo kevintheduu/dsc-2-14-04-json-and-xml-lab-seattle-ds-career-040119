{
 "cells": [
  {
   "cell_type": "markdown",
   "metadata": {},
   "source": [
    "# JSON and XML - Lab"
   ]
  },
  {
   "cell_type": "markdown",
   "metadata": {},
   "source": [
    "## Introduction\n",
    "\n",
    "In this lab, we'll continue investigating new formats for datasets. Specifically, we'll investigate two of the most popular data formats for the web: JSON and XML including strenghts and weaknesses."
   ]
  },
  {
   "cell_type": "markdown",
   "metadata": {},
   "source": [
    "## Objectives\n",
    "You will be able to:\n",
    "* Effectively use the JSON module to load and parse JSON documents\n",
    "* Read and access data stored in JSON and XML\n",
    "* Compare  and contrast the JSON and XML as data interchange types\n"
   ]
  },
  {
   "cell_type": "markdown",
   "metadata": {},
   "source": [
    "## XML"
   ]
  },
  {
   "cell_type": "code",
   "execution_count": 1,
   "metadata": {},
   "outputs": [],
   "source": [
    "import xml.etree.ElementTree as ET"
   ]
  },
  {
   "cell_type": "markdown",
   "metadata": {},
   "source": [
    "### Create an XML tree and retrieve the root tag."
   ]
  },
  {
   "cell_type": "code",
   "execution_count": 2,
   "metadata": {},
   "outputs": [],
   "source": [
    "#Your code here\n",
    "tree = ET.parse('nyc_2001_campaign_finance.xml')\n",
    "root = tree.getroot()"
   ]
  },
  {
   "cell_type": "markdown",
   "metadata": {},
   "source": [
    "### How many direct descendents does the root tag have?"
   ]
  },
  {
   "cell_type": "code",
   "execution_count": 3,
   "metadata": {},
   "outputs": [
    {
     "name": "stdout",
     "output_type": "stream",
     "text": [
      "row {}\n"
     ]
    }
   ],
   "source": [
    "#Answer: 1\n",
    "for child in root:\n",
    "    print(child.tag,child.attrib)"
   ]
  },
  {
   "cell_type": "code",
   "execution_count": 4,
   "metadata": {},
   "outputs": [
    {
     "name": "stdout",
     "output_type": "stream",
     "text": [
      "Child:\n",
      "\n",
      "row {}\n",
      "Grandchildren:\n",
      "row {'_id': '1', '_uuid': 'E3E9CC9F-7443-43F6-94AF-B5A0F802DBA1', '_position': '1', '_address': 'https://data.cityofnewyork.us/resource/_8dhd-zvi6/1'}\n",
      "row {'_id': '2', '_uuid': '9D257416-581A-4C42-85CC-B6EAD9DED97F', '_position': '2', '_address': 'https://data.cityofnewyork.us/resource/_8dhd-zvi6/2'}\n",
      "row {'_id': '3', '_uuid': 'B80D7891-93CF-49E8-86E8-182B618E68F2', '_position': '3', '_address': 'https://data.cityofnewyork.us/resource/_8dhd-zvi6/3'}\n",
      "row {'_id': '4', '_uuid': 'BB012003-78F5-406D-8A87-7FF8A425EE3F', '_position': '4', '_address': 'https://data.cityofnewyork.us/resource/_8dhd-zvi6/4'}\n",
      "row {'_id': '5', '_uuid': '945825F9-2F5D-47C2-A16B-75B93E61E1AD', '_position': '5', '_address': 'https://data.cityofnewyork.us/resource/_8dhd-zvi6/5'}\n",
      "row {'_id': '6', '_uuid': '9546F502-39D6-4340-B37E-60682EB22274', '_position': '6', '_address': 'https://data.cityofnewyork.us/resource/_8dhd-zvi6/6'}\n",
      "row {'_id': '7', '_uuid': '4B6C74AD-17A0-4B7E-973A-2592D68A687D', '_position': '7', '_address': 'https://data.cityofnewyork.us/resource/_8dhd-zvi6/7'}\n",
      "row {'_id': '8', '_uuid': 'ABD22A5E-B8DA-446F-82BC-93AA11AF99DF', '_position': '8', '_address': 'https://data.cityofnewyork.us/resource/_8dhd-zvi6/8'}\n",
      "row {'_id': '9', '_uuid': '7CD36FB5-600F-44F5-A10C-CB3434B6805F', '_position': '9', '_address': 'https://data.cityofnewyork.us/resource/_8dhd-zvi6/9'}\n",
      "\n",
      "\n",
      "\n"
     ]
    }
   ],
   "source": [
    "#Count is added here to limit the number of results\n",
    "count = 0\n",
    "for child in root:\n",
    "    print('Child:\\n')\n",
    "    print(child.tag, child.attrib)\n",
    "    print('Grandchildren:')\n",
    "    for grandchild in child:\n",
    "        count += 1\n",
    "        if count < 10:\n",
    "            print(grandchild.tag, grandchild.attrib)\n",
    "    print('\\n\\n')"
   ]
  },
  {
   "cell_type": "code",
   "execution_count": 5,
   "metadata": {},
   "outputs": [
    {
     "name": "stdout",
     "output_type": "stream",
     "text": [
      "response {}\n",
      "row {}\n",
      "row {'_id': '1', '_uuid': 'E3E9CC9F-7443-43F6-94AF-B5A0F802DBA1', '_position': '1', '_address': 'https://data.cityofnewyork.us/resource/_8dhd-zvi6/1'}\n",
      "candid {}\n",
      "candname {}\n",
      "officeboro {}\n",
      "canclass {}\n",
      "row {'_id': '2', '_uuid': '9D257416-581A-4C42-85CC-B6EAD9DED97F', '_position': '2', '_address': 'https://data.cityofnewyork.us/resource/_8dhd-zvi6/2'}\n",
      "election {}\n"
     ]
    }
   ],
   "source": [
    "count = 0\n",
    "for element in root.iter():\n",
    "    count += 1\n",
    "    if count < 10:\n",
    "        print(element.tag, element.attrib)"
   ]
  },
  {
   "cell_type": "markdown",
   "metadata": {},
   "source": [
    "### How many different types of tags are there within the entire XML file?"
   ]
  },
  {
   "cell_type": "code",
   "execution_count": 6,
   "metadata": {},
   "outputs": [],
   "source": [
    "import pandas as pd"
   ]
  },
  {
   "cell_type": "code",
   "execution_count": 14,
   "metadata": {},
   "outputs": [
    {
     "ename": "SyntaxError",
     "evalue": "invalid syntax (<ipython-input-14-502137457fd7>, line 8)",
     "output_type": "error",
     "traceback": [
      "\u001b[0;36m  File \u001b[0;32m\"<ipython-input-14-502137457fd7>\"\u001b[0;36m, line \u001b[0;32m8\u001b[0m\n\u001b[0;31m    df.head().\u001b[0m\n\u001b[0m              ^\u001b[0m\n\u001b[0;31mSyntaxError\u001b[0m\u001b[0;31m:\u001b[0m invalid syntax\n"
     ]
    }
   ],
   "source": [
    "# Your code here\n",
    "dfs = []\n",
    "for n, element in enumerate(root.iter('row')):\n",
    "    if n > 0:\n",
    "        dfs.append(pd.DataFrame.from_dict(element.attrib, orient='index').transpose())\n",
    "df = pd.concat(dfs)\n",
    "print(len(df))\n",
    "df.head().\n",
    "\n",
    "tags = []\n",
    "for element in root.iter():\n",
    "    tags.append(element.tag)\n",
    "print(len(set(tags)))"
   ]
  },
  {
   "cell_type": "markdown",
   "metadata": {},
   "source": [
    "### Create a DataFrame listing the number of each type of tag. \n",
    "Sort the DataFrame in descending order by the tag count. The first entry should demonstrate there are 286 row tags in the XML file.   \n",
    "(Your DataFrame will be a single column, so could also be thought of as a Series.)"
   ]
  },
  {
   "cell_type": "code",
   "execution_count": null,
   "metadata": {},
   "outputs": [],
   "source": [
    "import pandas as pd"
   ]
  },
  {
   "cell_type": "code",
   "execution_count": null,
   "metadata": {},
   "outputs": [],
   "source": [
    "#Your code here"
   ]
  },
  {
   "cell_type": "markdown",
   "metadata": {},
   "source": [
    "## JSON"
   ]
  },
  {
   "cell_type": "markdown",
   "metadata": {},
   "source": [
    "### Open the same dataset from json"
   ]
  },
  {
   "cell_type": "code",
   "execution_count": 4,
   "metadata": {},
   "outputs": [
    {
     "name": "stdout",
     "output_type": "stream",
     "text": [
      "<class 'dict'>\n"
     ]
    }
   ],
   "source": [
    "#Your code here\n",
    "import json\n",
    "\n",
    "f=open('nyc_2001_campaign_finance.json')\n",
    "data = json.load(f)\n",
    "print(type(data))"
   ]
  },
  {
   "cell_type": "markdown",
   "metadata": {},
   "source": [
    "### What is the root data type of the json file?"
   ]
  },
  {
   "cell_type": "code",
   "execution_count": 5,
   "metadata": {},
   "outputs": [
    {
     "name": "stdout",
     "output_type": "stream",
     "text": [
      "<class 'dict'>\n"
     ]
    },
    {
     "data": {
      "text/plain": [
       "dict_keys(['meta', 'data'])"
      ]
     },
     "execution_count": 5,
     "metadata": {},
     "output_type": "execute_result"
    }
   ],
   "source": [
    "### Your code here\n",
    "print(type(data))\n",
    "\n",
    "data.keys()"
   ]
  },
  {
   "cell_type": "markdown",
   "metadata": {},
   "source": [
    "### Navigate to the 'data' key of your loaded json object. What data type is this?"
   ]
  },
  {
   "cell_type": "code",
   "execution_count": 6,
   "metadata": {},
   "outputs": [
    {
     "name": "stdout",
     "output_type": "stream",
     "text": [
      "<class 'dict'>\n",
      "<class 'list'>\n"
     ]
    }
   ],
   "source": [
    "#Your code here\n",
    "data.keys()\n",
    "for v in data.values():\n",
    "    print(type(v))"
   ]
  },
  {
   "cell_type": "markdown",
   "metadata": {},
   "source": [
    "### Preview the first entry from the value returned by the 'data' key above."
   ]
  },
  {
   "cell_type": "code",
   "execution_count": 15,
   "metadata": {},
   "outputs": [
    {
     "data": {
      "text/plain": [
       "[1,\n",
       " 'E3E9CC9F-7443-43F6-94AF-B5A0F802DBA1',\n",
       " 1,\n",
       " 1315925633,\n",
       " '392904',\n",
       " 1315925633,\n",
       " '392904',\n",
       " '{\\n  \"invalidCells\" : {\\n    \"1519001\" : \"TOTALPAY\",\\n    \"1518998\" : \"PRIMARYPAY\",\\n    \"1519000\" : \"RUNOFFPAY\",\\n    \"1518999\" : \"GENERALPAY\",\\n    \"1518994\" : \"OFFICECD\",\\n    \"1518996\" : \"OFFICEDIST\",\\n    \"1518991\" : \"ELECTION\"\\n  }\\n}',\n",
       " None,\n",
       " 'CANDID',\n",
       " 'CANDNAME',\n",
       " None,\n",
       " 'OFFICEBORO',\n",
       " None,\n",
       " 'CANCLASS',\n",
       " None,\n",
       " None,\n",
       " None,\n",
       " None]"
      ]
     },
     "execution_count": 15,
     "metadata": {},
     "output_type": "execute_result"
    }
   ],
   "source": [
    "data['data'][0]"
   ]
  },
  {
   "cell_type": "code",
   "execution_count": 13,
   "metadata": {},
   "outputs": [
    {
     "data": {
      "text/html": [
       "<div>\n",
       "<style scoped>\n",
       "    .dataframe tbody tr th:only-of-type {\n",
       "        vertical-align: middle;\n",
       "    }\n",
       "\n",
       "    .dataframe tbody tr th {\n",
       "        vertical-align: top;\n",
       "    }\n",
       "\n",
       "    .dataframe thead th {\n",
       "        text-align: right;\n",
       "    }\n",
       "</style>\n",
       "<table border=\"1\" class=\"dataframe\">\n",
       "  <thead>\n",
       "    <tr style=\"text-align: right;\">\n",
       "      <th></th>\n",
       "      <th>view</th>\n",
       "    </tr>\n",
       "  </thead>\n",
       "  <tbody>\n",
       "    <tr>\n",
       "      <th>attribution</th>\n",
       "      <td>Campaign Finance Board (CFB)</td>\n",
       "    </tr>\n",
       "    <tr>\n",
       "      <th>averageRating</th>\n",
       "      <td>0</td>\n",
       "    </tr>\n",
       "    <tr>\n",
       "      <th>category</th>\n",
       "      <td>City Government</td>\n",
       "    </tr>\n",
       "    <tr>\n",
       "      <th>columns</th>\n",
       "      <td>[{'id': -1, 'name': 'sid', 'dataTypeName': 'me...</td>\n",
       "    </tr>\n",
       "    <tr>\n",
       "      <th>createdAt</th>\n",
       "      <td>1315950830</td>\n",
       "    </tr>\n",
       "    <tr>\n",
       "      <th>description</th>\n",
       "      <td>A listing of public funds payments for candida...</td>\n",
       "    </tr>\n",
       "    <tr>\n",
       "      <th>displayType</th>\n",
       "      <td>table</td>\n",
       "    </tr>\n",
       "    <tr>\n",
       "      <th>downloadCount</th>\n",
       "      <td>1470</td>\n",
       "    </tr>\n",
       "    <tr>\n",
       "      <th>flags</th>\n",
       "      <td>[default, restorable, restorePossibleForType]</td>\n",
       "    </tr>\n",
       "    <tr>\n",
       "      <th>grants</th>\n",
       "      <td>[{'inherited': False, 'type': 'viewer', 'flags...</td>\n",
       "    </tr>\n",
       "    <tr>\n",
       "      <th>hideFromCatalog</th>\n",
       "      <td>False</td>\n",
       "    </tr>\n",
       "    <tr>\n",
       "      <th>hideFromDataJson</th>\n",
       "      <td>False</td>\n",
       "    </tr>\n",
       "    <tr>\n",
       "      <th>id</th>\n",
       "      <td>8dhd-zvi6</td>\n",
       "    </tr>\n",
       "    <tr>\n",
       "      <th>indexUpdatedAt</th>\n",
       "      <td>1536596254</td>\n",
       "    </tr>\n",
       "    <tr>\n",
       "      <th>metadata</th>\n",
       "      <td>{'rdfSubject': '0', 'rdfClass': '', 'attachmen...</td>\n",
       "    </tr>\n",
       "    <tr>\n",
       "      <th>name</th>\n",
       "      <td>2001 Campaign Payments</td>\n",
       "    </tr>\n",
       "    <tr>\n",
       "      <th>newBackend</th>\n",
       "      <td>False</td>\n",
       "    </tr>\n",
       "    <tr>\n",
       "      <th>numberOfComments</th>\n",
       "      <td>0</td>\n",
       "    </tr>\n",
       "    <tr>\n",
       "      <th>oid</th>\n",
       "      <td>4140996</td>\n",
       "    </tr>\n",
       "    <tr>\n",
       "      <th>owner</th>\n",
       "      <td>{'id': '5fuc-pqz2', 'displayName': 'NYC OpenDa...</td>\n",
       "    </tr>\n",
       "    <tr>\n",
       "      <th>provenance</th>\n",
       "      <td>official</td>\n",
       "    </tr>\n",
       "    <tr>\n",
       "      <th>publicationAppendEnabled</th>\n",
       "      <td>False</td>\n",
       "    </tr>\n",
       "    <tr>\n",
       "      <th>publicationDate</th>\n",
       "      <td>1371845179</td>\n",
       "    </tr>\n",
       "    <tr>\n",
       "      <th>publicationGroup</th>\n",
       "      <td>240370</td>\n",
       "    </tr>\n",
       "    <tr>\n",
       "      <th>publicationStage</th>\n",
       "      <td>published</td>\n",
       "    </tr>\n",
       "    <tr>\n",
       "      <th>query</th>\n",
       "      <td>{}</td>\n",
       "    </tr>\n",
       "    <tr>\n",
       "      <th>rights</th>\n",
       "      <td>[read]</td>\n",
       "    </tr>\n",
       "    <tr>\n",
       "      <th>rowClass</th>\n",
       "      <td></td>\n",
       "    </tr>\n",
       "    <tr>\n",
       "      <th>rowsUpdatedAt</th>\n",
       "      <td>1371845177</td>\n",
       "    </tr>\n",
       "    <tr>\n",
       "      <th>rowsUpdatedBy</th>\n",
       "      <td>5fuc-pqz2</td>\n",
       "    </tr>\n",
       "    <tr>\n",
       "      <th>tableAuthor</th>\n",
       "      <td>{'id': '5fuc-pqz2', 'displayName': 'NYC OpenDa...</td>\n",
       "    </tr>\n",
       "    <tr>\n",
       "      <th>tableId</th>\n",
       "      <td>932968</td>\n",
       "    </tr>\n",
       "    <tr>\n",
       "      <th>tags</th>\n",
       "      <td>[finance, campaign finance board, cfb, nyccfb,...</td>\n",
       "    </tr>\n",
       "    <tr>\n",
       "      <th>totalTimesRated</th>\n",
       "      <td>0</td>\n",
       "    </tr>\n",
       "    <tr>\n",
       "      <th>viewCount</th>\n",
       "      <td>233</td>\n",
       "    </tr>\n",
       "    <tr>\n",
       "      <th>viewLastModified</th>\n",
       "      <td>1536605717</td>\n",
       "    </tr>\n",
       "    <tr>\n",
       "      <th>viewType</th>\n",
       "      <td>tabular</td>\n",
       "    </tr>\n",
       "  </tbody>\n",
       "</table>\n",
       "</div>"
      ],
      "text/plain": [
       "                                                                       view\n",
       "attribution                                    Campaign Finance Board (CFB)\n",
       "averageRating                                                             0\n",
       "category                                                    City Government\n",
       "columns                   [{'id': -1, 'name': 'sid', 'dataTypeName': 'me...\n",
       "createdAt                                                        1315950830\n",
       "description               A listing of public funds payments for candida...\n",
       "displayType                                                           table\n",
       "downloadCount                                                          1470\n",
       "flags                         [default, restorable, restorePossibleForType]\n",
       "grants                    [{'inherited': False, 'type': 'viewer', 'flags...\n",
       "hideFromCatalog                                                       False\n",
       "hideFromDataJson                                                      False\n",
       "id                                                                8dhd-zvi6\n",
       "indexUpdatedAt                                                   1536596254\n",
       "metadata                  {'rdfSubject': '0', 'rdfClass': '', 'attachmen...\n",
       "name                                                 2001 Campaign Payments\n",
       "newBackend                                                            False\n",
       "numberOfComments                                                          0\n",
       "oid                                                                 4140996\n",
       "owner                     {'id': '5fuc-pqz2', 'displayName': 'NYC OpenDa...\n",
       "provenance                                                         official\n",
       "publicationAppendEnabled                                              False\n",
       "publicationDate                                                  1371845179\n",
       "publicationGroup                                                     240370\n",
       "publicationStage                                                  published\n",
       "query                                                                    {}\n",
       "rights                                                               [read]\n",
       "rowClass                                                                   \n",
       "rowsUpdatedAt                                                    1371845177\n",
       "rowsUpdatedBy                                                     5fuc-pqz2\n",
       "tableAuthor               {'id': '5fuc-pqz2', 'displayName': 'NYC OpenDa...\n",
       "tableId                                                              932968\n",
       "tags                      [finance, campaign finance board, cfb, nyccfb,...\n",
       "totalTimesRated                                                           0\n",
       "viewCount                                                               233\n",
       "viewLastModified                                                 1536605717\n",
       "viewType                                                            tabular"
      ]
     },
     "execution_count": 13,
     "metadata": {},
     "output_type": "execute_result"
    }
   ],
   "source": [
    "#Your code here\n"
   ]
  },
  {
   "cell_type": "markdown",
   "metadata": {},
   "source": [
    "### Preview the Entry under meta -> view -> columns (the keys of three successively nested dictionaries)"
   ]
  },
  {
   "cell_type": "code",
   "execution_count": 16,
   "metadata": {},
   "outputs": [
    {
     "data": {
      "text/plain": [
       "[{'id': -1,\n",
       "  'name': 'sid',\n",
       "  'dataTypeName': 'meta_data',\n",
       "  'fieldName': ':sid',\n",
       "  'position': 0,\n",
       "  'renderTypeName': 'meta_data',\n",
       "  'format': {},\n",
       "  'flags': ['hidden']},\n",
       " {'id': -1,\n",
       "  'name': 'id',\n",
       "  'dataTypeName': 'meta_data',\n",
       "  'fieldName': ':id',\n",
       "  'position': 0,\n",
       "  'renderTypeName': 'meta_data',\n",
       "  'format': {},\n",
       "  'flags': ['hidden']},\n",
       " {'id': -1,\n",
       "  'name': 'position',\n",
       "  'dataTypeName': 'meta_data',\n",
       "  'fieldName': ':position',\n",
       "  'position': 0,\n",
       "  'renderTypeName': 'meta_data',\n",
       "  'format': {},\n",
       "  'flags': ['hidden']},\n",
       " {'id': -1,\n",
       "  'name': 'created_at',\n",
       "  'dataTypeName': 'meta_data',\n",
       "  'fieldName': ':created_at',\n",
       "  'position': 0,\n",
       "  'renderTypeName': 'meta_data',\n",
       "  'format': {},\n",
       "  'flags': ['hidden']},\n",
       " {'id': -1,\n",
       "  'name': 'created_meta',\n",
       "  'dataTypeName': 'meta_data',\n",
       "  'fieldName': ':created_meta',\n",
       "  'position': 0,\n",
       "  'renderTypeName': 'meta_data',\n",
       "  'format': {},\n",
       "  'flags': ['hidden']},\n",
       " {'id': -1,\n",
       "  'name': 'updated_at',\n",
       "  'dataTypeName': 'meta_data',\n",
       "  'fieldName': ':updated_at',\n",
       "  'position': 0,\n",
       "  'renderTypeName': 'meta_data',\n",
       "  'format': {},\n",
       "  'flags': ['hidden']},\n",
       " {'id': -1,\n",
       "  'name': 'updated_meta',\n",
       "  'dataTypeName': 'meta_data',\n",
       "  'fieldName': ':updated_meta',\n",
       "  'position': 0,\n",
       "  'renderTypeName': 'meta_data',\n",
       "  'format': {},\n",
       "  'flags': ['hidden']},\n",
       " {'id': -1,\n",
       "  'name': 'meta',\n",
       "  'dataTypeName': 'meta_data',\n",
       "  'fieldName': ':meta',\n",
       "  'position': 0,\n",
       "  'renderTypeName': 'meta_data',\n",
       "  'format': {},\n",
       "  'flags': ['hidden']},\n",
       " {'id': 75768833,\n",
       "  'name': 'ELECTION',\n",
       "  'dataTypeName': 'number',\n",
       "  'fieldName': 'election',\n",
       "  'position': 2,\n",
       "  'renderTypeName': 'number',\n",
       "  'tableColumnId': 1518991,\n",
       "  'width': 196,\n",
       "  'cachedContents': {'non_null': 284,\n",
       "   'average': '2001',\n",
       "   'largest': '2001',\n",
       "   'null': 1,\n",
       "   'top': [{'item': '2001', 'count': 20}],\n",
       "   'smallest': '2001',\n",
       "   'sum': '568284'},\n",
       "  'format': {'precisionStyle': 'standard',\n",
       "   'noCommas': 'true',\n",
       "   'align': 'right'}},\n",
       " {'id': 75768834,\n",
       "  'name': 'CANDID',\n",
       "  'dataTypeName': 'text',\n",
       "  'fieldName': 'candid',\n",
       "  'position': 3,\n",
       "  'renderTypeName': 'text',\n",
       "  'tableColumnId': 1518992,\n",
       "  'width': 172,\n",
       "  'cachedContents': {'non_null': 285,\n",
       "   'largest': 'YA',\n",
       "   'null': 0,\n",
       "   'top': [{'item': '490', 'count': 20},\n",
       "    {'item': '577', 'count': 19},\n",
       "    {'item': 'GF', 'count': 18},\n",
       "    {'item': '265', 'count': 17},\n",
       "    {'item': '549', 'count': 16},\n",
       "    {'item': '260', 'count': 15},\n",
       "    {'item': 'DH', 'count': 14},\n",
       "    {'item': '168', 'count': 13},\n",
       "    {'item': '561', 'count': 12},\n",
       "    {'item': '317', 'count': 11},\n",
       "    {'item': '240', 'count': 10},\n",
       "    {'item': 'B1', 'count': 9},\n",
       "    {'item': '337', 'count': 8},\n",
       "    {'item': '202', 'count': 7},\n",
       "    {'item': 'DP', 'count': 6},\n",
       "    {'item': '554', 'count': 5},\n",
       "    {'item': '529', 'count': 4},\n",
       "    {'item': '521', 'count': 3},\n",
       "    {'item': 'CY', 'count': 2},\n",
       "    {'item': '327', 'count': 1}],\n",
       "   'smallest': '148'},\n",
       "  'format': {}},\n",
       " {'id': 75768835,\n",
       "  'name': 'CANDNAME',\n",
       "  'dataTypeName': 'text',\n",
       "  'fieldName': 'candname',\n",
       "  'position': 4,\n",
       "  'renderTypeName': 'text',\n",
       "  'tableColumnId': 1518993,\n",
       "  'width': 196,\n",
       "  'cachedContents': {'non_null': 285,\n",
       "   'largest': 'Zett, Lori M',\n",
       "   'null': 0,\n",
       "   'top': [{'item': 'Taitt, Samuel A', 'count': 20},\n",
       "    {'item': 'Taliaferro, Phyllis', 'count': 19},\n",
       "    {'item': 'Taveras, Germania', 'count': 18},\n",
       "    {'item': 'Thakral, Jairam D', 'count': 17},\n",
       "    {'item': 'Thomas, Carl W', 'count': 16},\n",
       "    {'item': 'Thompson, Jr., William C', 'count': 15},\n",
       "    {'item': 'Tiraco, Joseph E', 'count': 14},\n",
       "    {'item': 'Toney, Vaughan', 'count': 13},\n",
       "    {'item': 'Toppin, Roger N', 'count': 12},\n",
       "    {'item': 'Torres, Mario A', 'count': 11},\n",
       "    {'item': 'Vallone, Jr., Peter F', 'count': 10},\n",
       "    {'item': 'Vallone, Peter F', 'count': 9},\n",
       "    {'item': 'Van Bramer, James G', 'count': 8},\n",
       "    {'item': 'Vann, Albert', 'count': 7},\n",
       "    {'item': 'Vargas, Ruben Dario', 'count': 6},\n",
       "    {'item': 'Vassos, Sandra', 'count': 5},\n",
       "    {'item': 'Vernet, Jean D', 'count': 4},\n",
       "    {'item': 'Viest, Nicholas D', 'count': 3},\n",
       "    {'item': 'Villaverde, Sergio', 'count': 2},\n",
       "    {'item': 'Vogel, Mark H', 'count': 1}],\n",
       "   'smallest': 'Aboulafia, Sandy'},\n",
       "  'format': {}},\n",
       " {'id': 75768836,\n",
       "  'name': 'OFFICECD',\n",
       "  'dataTypeName': 'number',\n",
       "  'fieldName': 'officecd',\n",
       "  'position': 5,\n",
       "  'renderTypeName': 'number',\n",
       "  'tableColumnId': 1518994,\n",
       "  'width': 196,\n",
       "  'cachedContents': {'non_null': 284,\n",
       "   'average': '4.700704225352113',\n",
       "   'largest': '5',\n",
       "   'null': 1,\n",
       "   'top': [{'item': '5', 'count': 20},\n",
       "    {'item': '1', 'count': 19},\n",
       "    {'item': '3', 'count': 18},\n",
       "    {'item': '4', 'count': 17},\n",
       "    {'item': '2', 'count': 16}],\n",
       "   'smallest': '1',\n",
       "   'sum': '1335'},\n",
       "  'format': {}},\n",
       " {'id': 75768837,\n",
       "  'name': 'OFFICEBORO',\n",
       "  'dataTypeName': 'text',\n",
       "  'fieldName': 'officeboro',\n",
       "  'position': 6,\n",
       "  'renderTypeName': 'text',\n",
       "  'tableColumnId': 1518995,\n",
       "  'width': 220,\n",
       "  'cachedContents': {'non_null': 21,\n",
       "   'largest': 'X',\n",
       "   'null': 264,\n",
       "   'top': [{'item': 'OFFICEBORO', 'count': 20},\n",
       "    {'item': 'X', 'count': 19},\n",
       "    {'item': 'M', 'count': 18},\n",
       "    {'item': 'K', 'count': 17},\n",
       "    {'item': 'Q', 'count': 16},\n",
       "    {'item': 'S', 'count': 15}],\n",
       "   'smallest': 'K'},\n",
       "  'format': {}},\n",
       " {'id': 75768838,\n",
       "  'name': 'OFFICEDIST',\n",
       "  'dataTypeName': 'number',\n",
       "  'fieldName': 'officedist',\n",
       "  'position': 7,\n",
       "  'renderTypeName': 'number',\n",
       "  'tableColumnId': 1518996,\n",
       "  'width': 220,\n",
       "  'cachedContents': {'non_null': 245,\n",
       "   'average': '26.33061224489796',\n",
       "   'largest': '51',\n",
       "   'null': 40,\n",
       "   'top': [{'item': '7', 'count': 20},\n",
       "    {'item': '32', 'count': 19},\n",
       "    {'item': '37', 'count': 18},\n",
       "    {'item': '28', 'count': 17},\n",
       "    {'item': '19', 'count': 16},\n",
       "    {'item': '39', 'count': 15},\n",
       "    {'item': '35', 'count': 14},\n",
       "    {'item': '42', 'count': 13},\n",
       "    {'item': '31', 'count': 12},\n",
       "    {'item': '6', 'count': 11},\n",
       "    {'item': '47', 'count': 10},\n",
       "    {'item': '20', 'count': 9},\n",
       "    {'item': '1', 'count': 8},\n",
       "    {'item': '27', 'count': 7},\n",
       "    {'item': '26', 'count': 6},\n",
       "    {'item': '10', 'count': 5},\n",
       "    {'item': '34', 'count': 4},\n",
       "    {'item': '45', 'count': 3},\n",
       "    {'item': '40', 'count': 2},\n",
       "    {'item': '12', 'count': 1}],\n",
       "   'smallest': '1',\n",
       "   'sum': '6451'},\n",
       "  'format': {}},\n",
       " {'id': 75768839,\n",
       "  'name': 'CANCLASS',\n",
       "  'dataTypeName': 'text',\n",
       "  'fieldName': 'canclass',\n",
       "  'position': 8,\n",
       "  'renderTypeName': 'text',\n",
       "  'tableColumnId': 1518997,\n",
       "  'width': 196,\n",
       "  'cachedContents': {'non_null': 285,\n",
       "   'largest': 'P',\n",
       "   'null': 0,\n",
       "   'top': [{'item': 'CANCLASS', 'count': 20}, {'item': 'P', 'count': 19}],\n",
       "   'smallest': 'CANCLASS'},\n",
       "  'format': {}},\n",
       " {'id': 75768840,\n",
       "  'name': 'PRIMARYPAY',\n",
       "  'dataTypeName': 'number',\n",
       "  'fieldName': 'primarypay',\n",
       "  'position': 9,\n",
       "  'renderTypeName': 'number',\n",
       "  'tableColumnId': 1518998,\n",
       "  'width': 220,\n",
       "  'cachedContents': {'non_null': 284,\n",
       "   'average': '112243.9612676056',\n",
       "   'largest': '2846148.00',\n",
       "   'null': 1,\n",
       "   'top': [{'item': '75350.00', 'count': 20},\n",
       "    {'item': '0', 'count': 19},\n",
       "    {'item': '91333.00', 'count': 18},\n",
       "    {'item': '69780.00', 'count': 17},\n",
       "    {'item': '22172.00', 'count': 16},\n",
       "    {'item': '65356.00', 'count': 15},\n",
       "    {'item': '11423.00', 'count': 14},\n",
       "    {'item': '60152.00', 'count': 13},\n",
       "    {'item': '75040.00', 'count': 12},\n",
       "    {'item': '62436.00', 'count': 11},\n",
       "    {'item': '42075.00', 'count': 10},\n",
       "    {'item': '74920.00', 'count': 9},\n",
       "    {'item': '38088.00', 'count': 8},\n",
       "    {'item': '74850.00', 'count': 7},\n",
       "    {'item': '89502.00', 'count': 6},\n",
       "    {'item': '74350.00', 'count': 5},\n",
       "    {'item': '58348.00', 'count': 4},\n",
       "    {'item': '55100.00', 'count': 3},\n",
       "    {'item': '508893.00', 'count': 2},\n",
       "    {'item': '74750.00', 'count': 1}],\n",
       "   'smallest': '0',\n",
       "   'sum': '31877285.00'},\n",
       "  'format': {}},\n",
       " {'id': 75768841,\n",
       "  'name': 'GENERALPAY',\n",
       "  'dataTypeName': 'number',\n",
       "  'fieldName': 'generalpay',\n",
       "  'position': 10,\n",
       "  'renderTypeName': 'number',\n",
       "  'tableColumnId': 1518999,\n",
       "  'width': 220,\n",
       "  'cachedContents': {'non_null': 284,\n",
       "   'average': '28753.57394366197',\n",
       "   'largest': '976545.00',\n",
       "   'null': 1,\n",
       "   'top': [{'item': '0', 'count': 20},\n",
       "    {'item': '75350.00', 'count': 19},\n",
       "    {'item': '201131.00', 'count': 18},\n",
       "    {'item': '39760.00', 'count': 17},\n",
       "    {'item': '57796.00', 'count': 16},\n",
       "    {'item': '75200.00', 'count': 15},\n",
       "    {'item': '68234.00', 'count': 14},\n",
       "    {'item': '5732.00', 'count': 13},\n",
       "    {'item': '58488.00', 'count': 12},\n",
       "    {'item': '62184.00', 'count': 11},\n",
       "    {'item': '44748.00', 'count': 10},\n",
       "    {'item': '21946.00', 'count': 9},\n",
       "    {'item': '70500.00', 'count': 8}],\n",
       "   'smallest': '0',\n",
       "   'sum': '8166015.00'},\n",
       "  'format': {}},\n",
       " {'id': 75768842,\n",
       "  'name': 'RUNOFFPAY',\n",
       "  'dataTypeName': 'number',\n",
       "  'fieldName': 'runoffpay',\n",
       "  'position': 11,\n",
       "  'renderTypeName': 'number',\n",
       "  'tableColumnId': 1519000,\n",
       "  'width': 208,\n",
       "  'cachedContents': {'non_null': 284,\n",
       "   'average': '7776.778169014085',\n",
       "   'largest': '711537.00',\n",
       "   'null': 1,\n",
       "   'top': [{'item': '0', 'count': 20},\n",
       "    {'item': '267331.00', 'count': 19},\n",
       "    {'item': '574387.00', 'count': 18},\n",
       "    {'item': '303270.00', 'count': 17},\n",
       "    {'item': '711537.00', 'count': 16},\n",
       "    {'item': '114407.00', 'count': 15},\n",
       "    {'item': '237673.00', 'count': 14}],\n",
       "   'smallest': '0',\n",
       "   'sum': '2208605.00'},\n",
       "  'format': {}},\n",
       " {'id': 75768843,\n",
       "  'name': 'TOTALPAY',\n",
       "  'dataTypeName': 'number',\n",
       "  'fieldName': 'totalpay',\n",
       "  'position': 12,\n",
       "  'renderTypeName': 'number',\n",
       "  'tableColumnId': 1519001,\n",
       "  'width': 196,\n",
       "  'cachedContents': {'non_null': 284,\n",
       "   'average': '148774.3133802817',\n",
       "   'largest': '4534230.00',\n",
       "   'null': 1,\n",
       "   'top': [{'item': '0', 'count': 20},\n",
       "    {'item': '75350.00', 'count': 19},\n",
       "    {'item': '150700.00', 'count': 18},\n",
       "    {'item': '2458534.00', 'count': 17},\n",
       "    {'item': '133146.00', 'count': 16},\n",
       "    {'item': '75200.00', 'count': 15},\n",
       "    {'item': '68234.00', 'count': 14},\n",
       "    {'item': '70664.00', 'count': 13},\n",
       "    {'item': '58488.00', 'count': 12},\n",
       "    {'item': '50112.00', 'count': 11},\n",
       "    {'item': '62184.00', 'count': 10},\n",
       "    {'item': '44748.00', 'count': 9},\n",
       "    {'item': '21946.00', 'count': 8},\n",
       "    {'item': '41656.00', 'count': 7},\n",
       "    {'item': '61260.00', 'count': 6},\n",
       "    {'item': '145850.00', 'count': 5},\n",
       "    {'item': '35808.00', 'count': 4},\n",
       "    {'item': '12172.00', 'count': 3}],\n",
       "   'smallest': '0',\n",
       "   'sum': '42251905.00'},\n",
       "  'format': {}}]"
      ]
     },
     "execution_count": 16,
     "metadata": {},
     "output_type": "execute_result"
    }
   ],
   "source": [
    "data['meta']['view']['columns']"
   ]
  },
  {
   "cell_type": "markdown",
   "metadata": {},
   "source": [
    "### Create a DataFrame from your json data\n",
    "The previous two questions previewed one entry from the data object within the json file, as well as the column details associated with that data from the meta entry within the json file. Both should have 19 entries. Create a DataFrame of the data. Be sure to use the information from the meta entry to add appropriate column names to your DataFrame."
   ]
  },
  {
   "cell_type": "code",
   "execution_count": 2,
   "metadata": {},
   "outputs": [],
   "source": [
    "import pandas as pd"
   ]
  },
  {
   "cell_type": "code",
   "execution_count": 3,
   "metadata": {},
   "outputs": [
    {
     "ename": "NameError",
     "evalue": "name 'data' is not defined",
     "output_type": "error",
     "traceback": [
      "\u001b[0;31m\u001b[0m",
      "\u001b[0;31mNameError\u001b[0mTraceback (most recent call last)",
      "\u001b[0;32m<ipython-input-3-30bf03ce8d6e>\u001b[0m in \u001b[0;36m<module>\u001b[0;34m()\u001b[0m\n\u001b[1;32m      1\u001b[0m \u001b[0;31m#Your code here\u001b[0m\u001b[0;34m\u001b[0m\u001b[0;34m\u001b[0m\u001b[0m\n\u001b[0;32m----> 2\u001b[0;31m \u001b[0mdf\u001b[0m \u001b[0;34m=\u001b[0m \u001b[0mpd\u001b[0m\u001b[0;34m.\u001b[0m\u001b[0mDataFrame\u001b[0m\u001b[0;34m(\u001b[0m\u001b[0mdata\u001b[0m\u001b[0;34m[\u001b[0m\u001b[0;34m'data'\u001b[0m\u001b[0;34m]\u001b[0m\u001b[0;34m,\u001b[0m\u001b[0;34m)\u001b[0m\u001b[0;34m\u001b[0m\u001b[0m\n\u001b[0m\u001b[1;32m      3\u001b[0m \u001b[0mcols\u001b[0m \u001b[0;34m=\u001b[0m \u001b[0;34m[\u001b[0m\u001b[0mi\u001b[0m\u001b[0;34m[\u001b[0m\u001b[0;34m'name'\u001b[0m\u001b[0;34m]\u001b[0m \u001b[0;32mfor\u001b[0m \u001b[0mi\u001b[0m \u001b[0;32min\u001b[0m \u001b[0mdata\u001b[0m\u001b[0;34m[\u001b[0m\u001b[0;34m'meta'\u001b[0m\u001b[0;34m]\u001b[0m\u001b[0;34m[\u001b[0m\u001b[0;34m'view'\u001b[0m\u001b[0;34m]\u001b[0m\u001b[0;34m[\u001b[0m\u001b[0;34m'columns'\u001b[0m\u001b[0;34m]\u001b[0m\u001b[0;34m]\u001b[0m\u001b[0;34m\u001b[0m\u001b[0m\n\u001b[1;32m      4\u001b[0m \u001b[0mdf\u001b[0m\u001b[0;34m.\u001b[0m\u001b[0mcolumns\u001b[0m \u001b[0;34m=\u001b[0m \u001b[0mcols\u001b[0m\u001b[0;34m\u001b[0m\u001b[0m\n\u001b[1;32m      5\u001b[0m \u001b[0mdf\u001b[0m\u001b[0;34m.\u001b[0m\u001b[0mhead\u001b[0m\u001b[0;34m(\u001b[0m\u001b[0;34m)\u001b[0m\u001b[0;34m\u001b[0m\u001b[0m\n",
      "\u001b[0;31mNameError\u001b[0m: name 'data' is not defined"
     ]
    }
   ],
   "source": [
    "#Your code here\n",
    "df = pd.DataFrame(data['data'],)\n",
    "cols = [i['name'] for i in data['meta']['view']['columns']]\n",
    "df.columns = cols\n",
    "df.head()"
   ]
  },
  {
   "cell_type": "markdown",
   "metadata": {},
   "source": [
    "### What's wrong with the first row of the DataFrame?"
   ]
  },
  {
   "cell_type": "code",
   "execution_count": null,
   "metadata": {},
   "outputs": [],
   "source": [
    "#Your code here"
   ]
  },
  {
   "cell_type": "markdown",
   "metadata": {},
   "source": [
    "#Your answer here"
   ]
  },
  {
   "cell_type": "markdown",
   "metadata": {},
   "source": [
    "## Summary\n",
    "\n",
    "Congratulations! You've started exploring some more complicated data structures used for the web and got to practice data munging and exploring!"
   ]
  }
 ],
 "metadata": {
  "kernelspec": {
   "display_name": "Python 3",
   "language": "python",
   "name": "python3"
  },
  "language_info": {
   "codemirror_mode": {
    "name": "ipython",
    "version": 3
   },
   "file_extension": ".py",
   "mimetype": "text/x-python",
   "name": "python",
   "nbconvert_exporter": "python",
   "pygments_lexer": "ipython3",
   "version": "3.6.6"
  }
 },
 "nbformat": 4,
 "nbformat_minor": 2
}
